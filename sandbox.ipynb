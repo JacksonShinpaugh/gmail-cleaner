{
 "cells": [
  {
   "cell_type": "code",
   "execution_count": null,
   "metadata": {},
   "outputs": [],
   "source": [
    "import json\n",
    "import os\n",
    "\n",
    "from google.auth.transport.requests import Request\n",
    "from google.oauth2.credentials import Credentials\n",
    "from google_auth_oauthlib.flow import InstalledAppFlow\n",
    "from googleapiclient.discovery import build\n",
    "from googleapiclient.errors import HttpError\n",
    "\n",
    "from dotenv import find_dotenv, load_dotenv\n",
    "load_dotenv(find_dotenv())"
   ]
  },
  {
   "cell_type": "code",
   "execution_count": null,
   "metadata": {},
   "outputs": [],
   "source": [
    "SCOPES = ['https://mail.google.com/']\n",
    "email = 'jackson.shinpaugh@gmail.com'\n",
    "\n",
    "CREDENTIALS = json.loads(os.environ['CREDENTIALS'])\n",
    "GMAIL_TOKEN = json.loads(os.environ['GMAIL_TOKEN'])"
   ]
  },
  {
   "cell_type": "code",
   "execution_count": null,
   "metadata": {},
   "outputs": [],
   "source": [
    "def get_credentials():\n",
    "    creds = Credentials.from_authorized_user_info(GMAIL_TOKEN, SCOPES)\n",
    "    if not creds or not creds.valid:\n",
    "        if creds and creds.expired and creds.refresh_token:\n",
    "            creds.refresh(Request())\n",
    "        else:\n",
    "            flow = InstalledAppFlow.from_client_secrets_file(\n",
    "                CREDENTIALS, SCOPES)\n",
    "            creds = flow.run_local_server(port=0)\n",
    "    return creds"
   ]
  },
  {
   "cell_type": "code",
   "execution_count": 51,
   "metadata": {},
   "outputs": [],
   "source": [
    "def get_senders(service):\n",
    "    messages = service.users().messages().list(userId='me').execute()\n",
    "\n",
    "    senders = []\n",
    "    for message in messages['messages']:\n",
    "        message_id = message['id']\n",
    "        message = service.users().messages().get(userId='me', id=message_id, format='metadata', metadataHeaders='From').execute()\n",
    "        headers = message['payload']['headers']\n",
    "        senders.append(headers[0]['value'])\n",
    "    \n",
    "    return list(set(senders))"
   ]
  },
  {
   "cell_type": "code",
   "execution_count": null,
   "metadata": {},
   "outputs": [],
   "source": [
    "def search_messages(service, query):\n",
    "    result = service.users().messages().list(userId='me',q=query).execute()\n",
    "    messages = [ ]\n",
    "    if 'messages' in result:\n",
    "        messages.extend(result['messages'])\n",
    "    while 'nextPageToken' in result:\n",
    "        page_token = result['nextPageToken']\n",
    "        result = service.users().messages().list(userId='me',q=query, pageToken=page_token).execute()\n",
    "        if 'messages' in result:\n",
    "            messages.extend(result['messages'])\n",
    "    return messages"
   ]
  },
  {
   "cell_type": "code",
   "execution_count": 61,
   "metadata": {},
   "outputs": [],
   "source": [
    "def delete_messages(service, query):\n",
    "    messages_to_delete = search_messages(service, query)\n",
    "    # it's possible to delete a single message with the delete API, like this:\n",
    "    # service.users().messages().delete(userId='me', id=msg['id'])\n",
    "    # but it's also possible to delete all the selected messages with one query, batchDelete\n",
    "    return service.users().messages().batchDelete(\n",
    "      userId='me',\n",
    "      body={\n",
    "          'ids': [ msg['id'] for msg in messages_to_delete]\n",
    "      }\n",
    "    ).execute()"
   ]
  },
  {
   "cell_type": "code",
   "execution_count": null,
   "metadata": {},
   "outputs": [],
   "source": [
    "creds = get_credentials()\n",
    "service = build('gmail', 'v1', credentials=creds)"
   ]
  },
  {
   "cell_type": "code",
   "execution_count": 65,
   "metadata": {},
   "outputs": [
    {
     "data": {
      "text/plain": [
       "['\"You\\'re a VIP\" <info@ectwinsmusic.com>',\n",
       " '\"MLB.com Insider\" <info@mail.mlblists.com>',\n",
       " 'DataCamp <team@datacamp.com>',\n",
       " 'MLB Trade News <info@mail.mlblists.com>',\n",
       " '\"EōS Fitness\" <noreply@eosfitness.com>',\n",
       " 'Discover Card <discover@services.discover.com>',\n",
       " 'Eventbrite <picks@campaign.eventbrite.com>',\n",
       " '\"Peet\\'s Coffee\" <PeetsCoffee@peets.com>',\n",
       " 'Investopedia - Chart Advisor <newsletters@mail.investopedia.com>',\n",
       " 'Greek Theatre <info@lagreektheatre.com>',\n",
       " 'Sterling Ransom via LinkedIn <invitations@linkedin.com>',\n",
       " 'AMC Theatres <noreply@email.amctheatres.com>',\n",
       " 'Medium Daily Digest <noreply@medium.com>',\n",
       " 'tennacity@playbypoint.com',\n",
       " 'Health For CA <no-reply@healthforcalifornia.com>',\n",
       " '\"STATEWIDE ENTERPRISES, INC.\" <donotreply@onlineportal.appfolio.com>',\n",
       " 'AI Tool Report <aitoolreport@mail.beehiiv.com>',\n",
       " 'Spotify <no-reply@spotify.com>',\n",
       " '\"BandMix.com\" <support@bandmix.com>',\n",
       " '\"ASTRO.GONG.YOGA\" <info@astrogongyoga.com>',\n",
       " 'StrataScratch Team <hello@stratascratch.com>',\n",
       " 'Etsy <email@email.etsy.com>',\n",
       " 'MLB Morning Lineup <info@mail.mlblists.com>',\n",
       " 'LinkedIn <jobs-noreply@linkedin.com>',\n",
       " 'Dave and Andrew <newsletter@einvestingforbeginners.com>',\n",
       " 'Discover Card <discover@card-e.em.discover.com>',\n",
       " 'Jared Goetz <me@jaredgoetz.com>',\n",
       " 'VIP Invitation <info@ectwinsmusic.com>',\n",
       " 'Instacart <no-reply@customers.instacartemail.com>',\n",
       " 'Ant Wilson <ant@supabase.com>',\n",
       " 'Investopedia - The Daily <newsletters@mail.investopedia.com>',\n",
       " 'Uber Eats <uber@uber.com>',\n",
       " 'The Neo4j Team <aura@neo4j.com>',\n",
       " 'Total Testing Solutions <info@ttshealth.com>',\n",
       " 'Crunch Gym <signaturenews@crunch.com>',\n",
       " 'Carson College of Business <CarsonCougsGive@crmmarketing.wsu.edu>',\n",
       " 'Apple Card <applecard@insideapple.apple.com>',\n",
       " 'Carbon Health <info@care.carbonhealth.com>',\n",
       " 'LA Galaxy <emails@info.lagalaxy.com>',\n",
       " 'Vivid Seats <tickets@live.vividseats.com>',\n",
       " 'LinkedIn <jobs-listings@linkedin.com>',\n",
       " 'Nill Chewn <voyageadvisory.careers@gmail.com>',\n",
       " 'The Khan Academy Team <hello@e.khanacademy.org>',\n",
       " 'Jobot Alerts <jobs@alerts.jobot.com>',\n",
       " 'Team Bark <team@cmail.bark.com>',\n",
       " 'Studio <hello@info.studio.com>',\n",
       " 'MLB Auctions <info@mail.mlblists.com>',\n",
       " 'Frontier Airlines <deals@emails.flyfrontier.com>',\n",
       " 'PureGym <puregym@offers.emails-puregym.com>',\n",
       " 'Too Good To Go <hello@mail.toogoodtogo.com>',\n",
       " 'Jackson Shinpaugh <jackson.shinpaugh@gmail.com>',\n",
       " 'Talentify <taly@tflux.co>',\n",
       " 'LinkedIn <messages-noreply@linkedin.com>',\n",
       " '\"Groupon 🟢\" <noreply@r.groupon.com>',\n",
       " '\"Scott\\'s Bass Lessons\" <support@scottsbasslessons.com>',\n",
       " 'Medium <hello@medium.com>',\n",
       " 'Uber <noreply@uber.com>',\n",
       " 'LA Kings <updates@vip.lakings.com>']"
      ]
     },
     "execution_count": 65,
     "metadata": {},
     "output_type": "execute_result"
    }
   ],
   "source": [
    "senders = get_senders(service)\n",
    "senders"
   ]
  },
  {
   "cell_type": "code",
   "execution_count": 70,
   "metadata": {},
   "outputs": [
    {
     "data": {
      "text/plain": [
       "[]"
      ]
     },
     "execution_count": 70,
     "metadata": {},
     "output_type": "execute_result"
    }
   ],
   "source": [
    "messages = search_messages(service, 'Greek Theatre')\n",
    "messages"
   ]
  },
  {
   "cell_type": "code",
   "execution_count": 69,
   "metadata": {},
   "outputs": [],
   "source": [
    "response = delete_messages(service, 'Greek Theatre')"
   ]
  },
  {
   "cell_type": "code",
   "execution_count": 60,
   "metadata": {},
   "outputs": [
    {
     "data": {
      "text/plain": [
       "174"
      ]
     },
     "execution_count": 60,
     "metadata": {},
     "output_type": "execute_result"
    }
   ],
   "source": [
    "len(messages)"
   ]
  }
 ],
 "metadata": {
  "kernelspec": {
   "display_name": "Python 3.9.17 ('gmail-cleaner')",
   "language": "python",
   "name": "python3"
  },
  "language_info": {
   "codemirror_mode": {
    "name": "ipython",
    "version": 3
   },
   "file_extension": ".py",
   "mimetype": "text/x-python",
   "name": "python",
   "nbconvert_exporter": "python",
   "pygments_lexer": "ipython3",
   "version": "3.9.17"
  },
  "orig_nbformat": 4,
  "vscode": {
   "interpreter": {
    "hash": "d886ff71d6b2b2a1b023032c40eee2ba96c7ad55a33b61e15535866702047bed"
   }
  }
 },
 "nbformat": 4,
 "nbformat_minor": 2
}
